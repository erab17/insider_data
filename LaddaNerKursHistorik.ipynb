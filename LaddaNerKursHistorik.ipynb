{
 "cells": [
  {
   "cell_type": "code",
   "execution_count": 1,
   "metadata": {},
   "outputs": [],
   "source": [
    "from selenium import webdriver\n",
    "from selenium.webdriver.common.keys import Keys\n",
    "\n",
    "driver = webdriver.Chrome()#Firefox()\n",
    "driver.get(\"http://www.python.org\")\n",
    "assert \"Python\" in driver.title\n",
    "elem = driver.find_element_by_name(\"q\")\n",
    "elem.clear()\n",
    "elem.send_keys(\"pycon\")\n",
    "elem.send_keys(Keys.RETURN)\n",
    "assert \"No results found.\" not in driver.page_source\n",
    "driver.close()"
   ]
  },
  {
   "cell_type": "code",
   "execution_count": 7,
   "metadata": {},
   "outputs": [],
   "source": [
    "from selenium.webdriver.support.ui import WebDriverWait\n",
    "from selenium.webdriver.support import expected_conditions as EC\n",
    "from selenium.webdriver.common.by import By\n"
   ]
  },
  {
   "cell_type": "code",
   "execution_count": 33,
   "metadata": {},
   "outputs": [],
   "source": [
    "from selenium.common.exceptions import StaleElementReferenceException, TimeoutException"
   ]
  },
  {
   "cell_type": "code",
   "execution_count": 38,
   "metadata": {},
   "outputs": [],
   "source": [
    "from selenium.webdriver.support import expected_conditions as EC\n",
    "\n",
    "class wait_for_display(object):\n",
    "    def __init__(self, locator):\n",
    "        self.locator = locator\n",
    "\n",
    "    def __call__(self, driver):\n",
    "        try:\n",
    "            element = EC._find_element(driver, self.locator)\n",
    "            return element.value_of_css_property(\"display\") == \"block\"\n",
    "        except StaleElementReferenceException:\n",
    "            return False\n",
    "        except TimeoutException as error:\n",
    "            print(\"Timeout exception\")\n",
    "            print(error)\n",
    "            return False"
   ]
  },
  {
   "cell_type": "code",
   "execution_count": 40,
   "metadata": {},
   "outputs": [
    {
     "name": "stdout",
     "output_type": "stream",
     "text": [
      "Page is ready!\n"
     ]
    },
    {
     "ename": "TimeoutException",
     "evalue": "Message: \n",
     "output_type": "error",
     "traceback": [
      "\u001b[1;31m---------------------------------------------------------------------------\u001b[0m",
      "\u001b[1;31mTimeoutException\u001b[0m                          Traceback (most recent call last)",
      "\u001b[1;32m<ipython-input-40-d96b9aeb6f3f>\u001b[0m in \u001b[0;36m<module>\u001b[1;34m\u001b[0m\n\u001b[0;32m     20\u001b[0m \u001b[0mwait\u001b[0m \u001b[1;33m=\u001b[0m \u001b[0mWebDriverWait\u001b[0m\u001b[1;33m(\u001b[0m\u001b[0mdriver\u001b[0m\u001b[1;33m,\u001b[0m \u001b[1;36m2\u001b[0m\u001b[1;33m)\u001b[0m\u001b[1;33m\u001b[0m\u001b[1;33m\u001b[0m\u001b[0m\n\u001b[0;32m     21\u001b[0m \u001b[1;31m#wait.until(wait_for_display((By.XPATH, \"//*[@id='exportExcel']/span[1]\")))\u001b[0m\u001b[1;33m\u001b[0m\u001b[1;33m\u001b[0m\u001b[1;33m\u001b[0m\u001b[0m\n\u001b[1;32m---> 22\u001b[1;33m \u001b[0mwait\u001b[0m\u001b[1;33m.\u001b[0m\u001b[0muntil\u001b[0m\u001b[1;33m(\u001b[0m\u001b[0mwait_for_display\u001b[0m\u001b[1;33m(\u001b[0m\u001b[1;33m(\u001b[0m\u001b[0mBy\u001b[0m\u001b[1;33m.\u001b[0m\u001b[0mXPATH\u001b[0m\u001b[1;33m,\u001b[0m \u001b[1;34m\"//div[@style='margin-left: 15px; display: block;']\"\u001b[0m\u001b[1;33m)\u001b[0m\u001b[1;33m)\u001b[0m\u001b[1;33m)\u001b[0m\u001b[1;33m\u001b[0m\u001b[1;33m\u001b[0m\u001b[0m\n\u001b[0m\u001b[0;32m     23\u001b[0m \u001b[1;33m\u001b[0m\u001b[0m\n\u001b[0;32m     24\u001b[0m \u001b[1;31m#<div class=\"hide floatLeft\" id=\"exportExcelContainer\" style=\"margin-left: 15px; display: block;\"><a class=\"excelicon\" id=\"exportExcel\">Download to CSV</a></div>\u001b[0m\u001b[1;33m\u001b[0m\u001b[1;33m\u001b[0m\u001b[1;33m\u001b[0m\u001b[0m\n",
      "\u001b[1;32m~\\Anaconda3\\envs\\jerker\\lib\\site-packages\\selenium\\webdriver\\support\\wait.py\u001b[0m in \u001b[0;36muntil\u001b[1;34m(self, method, message)\u001b[0m\n\u001b[0;32m     78\u001b[0m             \u001b[1;32mif\u001b[0m \u001b[0mtime\u001b[0m\u001b[1;33m.\u001b[0m\u001b[0mtime\u001b[0m\u001b[1;33m(\u001b[0m\u001b[1;33m)\u001b[0m \u001b[1;33m>\u001b[0m \u001b[0mend_time\u001b[0m\u001b[1;33m:\u001b[0m\u001b[1;33m\u001b[0m\u001b[1;33m\u001b[0m\u001b[0m\n\u001b[0;32m     79\u001b[0m                 \u001b[1;32mbreak\u001b[0m\u001b[1;33m\u001b[0m\u001b[1;33m\u001b[0m\u001b[0m\n\u001b[1;32m---> 80\u001b[1;33m         \u001b[1;32mraise\u001b[0m \u001b[0mTimeoutException\u001b[0m\u001b[1;33m(\u001b[0m\u001b[0mmessage\u001b[0m\u001b[1;33m,\u001b[0m \u001b[0mscreen\u001b[0m\u001b[1;33m,\u001b[0m \u001b[0mstacktrace\u001b[0m\u001b[1;33m)\u001b[0m\u001b[1;33m\u001b[0m\u001b[1;33m\u001b[0m\u001b[0m\n\u001b[0m\u001b[0;32m     81\u001b[0m \u001b[1;33m\u001b[0m\u001b[0m\n\u001b[0;32m     82\u001b[0m     \u001b[1;32mdef\u001b[0m \u001b[0muntil_not\u001b[0m\u001b[1;33m(\u001b[0m\u001b[0mself\u001b[0m\u001b[1;33m,\u001b[0m \u001b[0mmethod\u001b[0m\u001b[1;33m,\u001b[0m \u001b[0mmessage\u001b[0m\u001b[1;33m=\u001b[0m\u001b[1;34m''\u001b[0m\u001b[1;33m)\u001b[0m\u001b[1;33m:\u001b[0m\u001b[1;33m\u001b[0m\u001b[1;33m\u001b[0m\u001b[0m\n",
      "\u001b[1;31mTimeoutException\u001b[0m: Message: \n"
     ]
    }
   ],
   "source": [
    "driver = webdriver.Chrome()#Firefox()\n",
    "driver.get(\"http://www.nasdaqomxnordic.com/shares/historicalprices\")\n",
    "#elem = driver.find_element_by_name(\"q\")\n",
    "#elem = driver.find_element_by_class_name(\"placeholder ui-autocomplete-input\")\n",
    "elem = driver.find_element_by_id(\"instSearchHistorical\")\n",
    "elem.clear()\n",
    "elem.send_keys(\"VOLVO B\")\n",
    "elem.send_keys(Keys.RETURN)\n",
    "delay = 20\n",
    "try:\n",
    "    elem = WebDriverWait(driver, delay).until(EC.presence_of_element_located((By.ID, 'exportExcel')))\n",
    "    print(\"Page is ready!\")\n",
    "except Exception: #TimeoutException:\n",
    "    print(\"Loading took too much time!\")\n",
    "\n",
    "#WebDriverWait(browser,1000).until(EC.presence_of_element_located((By.XPATH,xpathstring)))\n",
    "\n",
    "#elem = WebDriverWait(driver, 10).until(EC.presence_of_element_located((By.XPATH(\"//*[@id='exportExcel'][contains(@style, 'display: block')]\"))))\n",
    "\n",
    "wait = WebDriverWait(driver, 2)\n",
    "#wait.until(wait_for_display((By.XPATH, \"//*[@id='exportExcel']/span[1]\")))\n",
    "wait.until(wait_for_display((By.XPATH, \"//div[@style='margin-left: 15px; display: block;']\")))\n",
    "\n",
    "#<div class=\"hide floatLeft\" id=\"exportExcelContainer\" style=\"margin-left: 15px; display: block;\"><a class=\"excelicon\" id=\"exportExcel\">Download to CSV</a></div>\n",
    "\n",
    "elem = driver.find_element_by_id(\"exportExcel\")\n",
    "#elem.send_keys(Keys.RETURN)\n",
    "#elem.click()\n",
    "driver.execute_script(\"arguments[0].click();\", elem)\n",
    "assert \"No results found.\" not in driver.page_source\n",
    "\n"
   ]
  },
  {
   "cell_type": "code",
   "execution_count": null,
   "metadata": {},
   "outputs": [],
   "source": []
  }
 ],
 "metadata": {
  "kernelspec": {
   "display_name": "Python [conda env:jerker]",
   "language": "python",
   "name": "conda-env-jerker-py"
  },
  "language_info": {
   "codemirror_mode": {
    "name": "ipython",
    "version": 3
   },
   "file_extension": ".py",
   "mimetype": "text/x-python",
   "name": "python",
   "nbconvert_exporter": "python",
   "pygments_lexer": "ipython3",
   "version": "3.8.5"
  }
 },
 "nbformat": 4,
 "nbformat_minor": 4
}
